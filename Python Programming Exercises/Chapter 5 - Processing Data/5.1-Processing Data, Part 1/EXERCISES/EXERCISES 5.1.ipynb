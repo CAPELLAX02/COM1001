{
 "cells": [
  {
   "cell_type": "code",
   "execution_count": 5,
   "metadata": {},
   "outputs": [
    {
     "name": "stdout",
     "output_type": "stream",
     "text": [
      "mehmet\n"
     ]
    }
   ],
   "source": [
    "outfile = open('names.txt', 'w')\n",
    "outfile.write('ahmet\\n')\n",
    "outfile.write('mehmet\\n')\n",
    "outfile.close()\n",
    "\n",
    "infile = open('names.txt', 'r')\n",
    "for line in infile:\n",
    "  text = infile.readline().rstrip()\n",
    "\n",
    "infile.close()\n",
    "\n",
    "print(text)"
   ]
  },
  {
   "cell_type": "code",
   "execution_count": 6,
   "metadata": {},
   "outputs": [
    {
     "name": "stdout",
     "output_type": "stream",
     "text": [
      "ahmet\n"
     ]
    }
   ],
   "source": [
    "outfile = open('names.txt', 'w')\n",
    "outfile.write('ahmet\\n')\n",
    "outfile.write('mehmet\\n')\n",
    "outfile.close()\n",
    "\n",
    "infile = open('names.txt', 'r')\n",
    "text = infile.readline().rstrip()\n",
    "infile.close()\n",
    "\n",
    "print(text)"
   ]
  },
  {
   "cell_type": "code",
   "execution_count": 7,
   "metadata": {},
   "outputs": [
    {
     "name": "stdout",
     "output_type": "stream",
     "text": [
      "ahmet\n",
      "mehmet\n",
      "\n"
     ]
    }
   ],
   "source": [
    "list1 = ['ahmet\\n', 'mehmet\\n']\n",
    "\n",
    "outfile = open('names.txt', 'w')\n",
    "outfile.writelines(list1)\n",
    "outfile.close()\n",
    "\n",
    "infile = open('names.txt', 'r')\n",
    "text = infile.read()\n",
    "infile.close()\n",
    "\n",
    "print(text)"
   ]
  },
  {
   "cell_type": "code",
   "execution_count": 8,
   "metadata": {},
   "outputs": [
    {
     "name": "stdout",
     "output_type": "stream",
     "text": [
      "ahmetmehmet\n"
     ]
    }
   ],
   "source": [
    "list1 = ['ahmet', 'mehmet']\n",
    "\n",
    "outfile = open('names.txt', 'w')\n",
    "outfile.writelines(list1)\n",
    "outfile.close()\n",
    "\n",
    "infile = open('names.txt', 'r')\n",
    "text = infile.read().rstrip()\n",
    "\n",
    "print(text)"
   ]
  },
  {
   "cell_type": "code",
   "execution_count": 10,
   "metadata": {},
   "outputs": [
    {
     "name": "stdout",
     "output_type": "stream",
     "text": [
      "{'o', 'k', 'e', 'p', 'B', 'r'}\n",
      "6\n"
     ]
    }
   ],
   "source": [
    "print(set('Bookkeeper'))\n",
    "print(len(set('Bookkeeper')))"
   ]
  },
  {
   "cell_type": "code",
   "execution_count": 14,
   "metadata": {},
   "outputs": [
    {
     "name": "stdout",
     "output_type": "stream",
     "text": [
      "{1, 3, 4}\n",
      "[1, 3, 4]\n"
     ]
    }
   ],
   "source": [
    "print(set([3, 4, 1, 4, 3]))\n",
    "print(sorted(set([3, 4, 1, 4, 3])))"
   ]
  },
  {
   "cell_type": "code",
   "execution_count": 17,
   "metadata": {},
   "outputs": [
    {
     "name": "stdout",
     "output_type": "stream",
     "text": [
      "{0, 1, 4}\n"
     ]
    }
   ],
   "source": [
    "print({x ** 2 for x in range(-2, 3)})"
   ]
  },
  {
   "cell_type": "code",
   "execution_count": 23,
   "metadata": {},
   "outputs": [
    {
     "name": "stdout",
     "output_type": "stream",
     "text": [
      "Never give up.\n"
     ]
    }
   ],
   "source": [
    "s = {'always', 'give', 'up.', 'Never'}\n",
    "s.discard('always')\n",
    "print(' '.join(sorted(s, key=len, reverse=True)))"
   ]
  },
  {
   "cell_type": "code",
   "execution_count": 25,
   "metadata": {},
   "outputs": [
    {
     "name": "stdout",
     "output_type": "stream",
     "text": [
      "['a', 'c', 't']\n"
     ]
    }
   ],
   "source": [
    "s = set('cat')\n",
    "s.add('t')\n",
    "print(sorted(s))"
   ]
  },
  {
   "cell_type": "code",
   "execution_count": 26,
   "metadata": {},
   "outputs": [
    {
     "name": "stdout",
     "output_type": "stream",
     "text": [
      "['z', 'o', 'n', 'e']\n"
     ]
    }
   ],
   "source": [
    "s = set('dozen')\n",
    "s.discard('d')\n",
    "print(sorted(s, reverse=True))"
   ]
  },
  {
   "cell_type": "code",
   "execution_count": 33,
   "metadata": {},
   "outputs": [
    {
     "ename": "UnsupportedOperation",
     "evalue": "not readable",
     "output_type": "error",
     "traceback": [
      "\u001b[1;31m---------------------------------------------------------------------------\u001b[0m",
      "\u001b[1;31mUnsupportedOperation\u001b[0m                      Traceback (most recent call last)",
      "\u001b[1;32mc:\\Users\\ahmet\\OneDrive\\Masaüstü\\CENG\\1. Sınıf\\1. Dönem (Güz)\\COM1001 (Computer Programming I)\\Python Programming Exercises\\Chapter 5 - Processing Data\\5.1-Processing Data, Part 1\\EXERCISES\\EXERCISES.ipynb Cell 11\u001b[0m line \u001b[0;36m4\n\u001b[0;32m      <a href='vscode-notebook-cell:/c%3A/Users/ahmet/OneDrive/Masa%C3%BCst%C3%BC/CENG/1.%20S%C4%B1n%C4%B1f/1.%20D%C3%B6nem%20%28G%C3%BCz%29/COM1001%20%28Computer%20Programming%20I%29/Python%20Programming%20Exercises/Chapter%205%20-%20Processing%20Data/5.1-Processing%20Data%2C%20Part%201/EXERCISES/EXERCISES.ipynb#X15sZmlsZQ%3D%3D?line=0'>1</a>\u001b[0m \u001b[39m# FINDING ERRORS SECTON STARTS HERE\u001b[39;00m\n\u001b[0;32m      <a href='vscode-notebook-cell:/c%3A/Users/ahmet/OneDrive/Masa%C3%BCst%C3%BC/CENG/1.%20S%C4%B1n%C4%B1f/1.%20D%C3%B6nem%20%28G%C3%BCz%29/COM1001%20%28Computer%20Programming%20I%29/Python%20Programming%20Exercises/Chapter%205%20-%20Processing%20Data/5.1-Processing%20Data%2C%20Part%201/EXERCISES/EXERCISES.ipynb#X15sZmlsZQ%3D%3D?line=2'>3</a>\u001b[0m infile \u001b[39m=\u001b[39m \u001b[39mopen\u001b[39m(\u001b[39m'\u001b[39m\u001b[39mabc.txt\u001b[39m\u001b[39m'\u001b[39m, \u001b[39m'\u001b[39m\u001b[39mw\u001b[39m\u001b[39m'\u001b[39m)\n\u001b[1;32m----> <a href='vscode-notebook-cell:/c%3A/Users/ahmet/OneDrive/Masa%C3%BCst%C3%BC/CENG/1.%20S%C4%B1n%C4%B1f/1.%20D%C3%B6nem%20%28G%C3%BCz%29/COM1001%20%28Computer%20Programming%20I%29/Python%20Programming%20Exercises/Chapter%205%20-%20Processing%20Data/5.1-Processing%20Data%2C%20Part%201/EXERCISES/EXERCISES.ipynb#X15sZmlsZQ%3D%3D?line=3'>4</a>\u001b[0m line \u001b[39m=\u001b[39m infile\u001b[39m.\u001b[39;49mreadline()\n\u001b[0;32m      <a href='vscode-notebook-cell:/c%3A/Users/ahmet/OneDrive/Masa%C3%BCst%C3%BC/CENG/1.%20S%C4%B1n%C4%B1f/1.%20D%C3%B6nem%20%28G%C3%BCz%29/COM1001%20%28Computer%20Programming%20I%29/Python%20Programming%20Exercises/Chapter%205%20-%20Processing%20Data/5.1-Processing%20Data%2C%20Part%201/EXERCISES/EXERCISES.ipynb#X15sZmlsZQ%3D%3D?line=4'>5</a>\u001b[0m infile\u001b[39m.\u001b[39mclose()\n",
      "\u001b[1;31mUnsupportedOperation\u001b[0m: not readable"
     ]
    }
   ],
   "source": [
    "# FINDING ERRORS SECTON STARTS HERE\n",
    "\n",
    "infile = open('abc.txt', 'w')\n",
    "line = infile.readline()\n",
    "infile.close()\n",
    "# buradaki hatayı tam olarak anlayamadım."
   ]
  },
  {
   "cell_type": "code",
   "execution_count": 29,
   "metadata": {},
   "outputs": [],
   "source": [
    "outfile = open('outfile.txt', 'a')\n",
    "outfile.write('Ahmet\\n')\n",
    "outfile.close()\n",
    "# No error occured. 'Ahmet' is written in outfile.txt"
   ]
  },
  {
   "cell_type": "code",
   "execution_count": 30,
   "metadata": {},
   "outputs": [
    {
     "ename": "AttributeError",
     "evalue": "'str' object has no attribute 'close'",
     "output_type": "error",
     "traceback": [
      "\u001b[1;31m---------------------------------------------------------------------------\u001b[0m",
      "\u001b[1;31mAttributeError\u001b[0m                            Traceback (most recent call last)",
      "\u001b[1;32mc:\\Users\\ahmet\\OneDrive\\Masaüstü\\CENG\\1. Sınıf\\1. Dönem (Güz)\\COM1001 (Computer Programming I)\\Python Programming Exercises\\Chapter 5 - Processing Data\\5.1-Processing Data, Part 1\\EXERCISES\\EXERCISES.ipynb Cell 13\u001b[0m line \u001b[0;36m3\n\u001b[0;32m      <a href='vscode-notebook-cell:/c%3A/Users/ahmet/OneDrive/Masa%C3%BCst%C3%BC/CENG/1.%20S%C4%B1n%C4%B1f/1.%20D%C3%B6nem%20%28G%C3%BCz%29/COM1001%20%28Computer%20Programming%20I%29/Python%20Programming%20Exercises/Chapter%205%20-%20Processing%20Data/5.1-Processing%20Data%2C%20Part%201/EXERCISES/EXERCISES.ipynb#X20sZmlsZQ%3D%3D?line=0'>1</a>\u001b[0m infile \u001b[39m=\u001b[39m \u001b[39mopen\u001b[39m(\u001b[39m'\u001b[39m\u001b[39mabc.txt\u001b[39m\u001b[39m'\u001b[39m, \u001b[39m'\u001b[39m\u001b[39mr\u001b[39m\u001b[39m'\u001b[39m)\n\u001b[0;32m      <a href='vscode-notebook-cell:/c%3A/Users/ahmet/OneDrive/Masa%C3%BCst%C3%BC/CENG/1.%20S%C4%B1n%C4%B1f/1.%20D%C3%B6nem%20%28G%C3%BCz%29/COM1001%20%28Computer%20Programming%20I%29/Python%20Programming%20Exercises/Chapter%205%20-%20Processing%20Data/5.1-Processing%20Data%2C%20Part%201/EXERCISES/EXERCISES.ipynb#X20sZmlsZQ%3D%3D?line=1'>2</a>\u001b[0m line \u001b[39m=\u001b[39m infile\u001b[39m.\u001b[39mreadline()\n\u001b[1;32m----> <a href='vscode-notebook-cell:/c%3A/Users/ahmet/OneDrive/Masa%C3%BCst%C3%BC/CENG/1.%20S%C4%B1n%C4%B1f/1.%20D%C3%B6nem%20%28G%C3%BCz%29/COM1001%20%28Computer%20Programming%20I%29/Python%20Programming%20Exercises/Chapter%205%20-%20Processing%20Data/5.1-Processing%20Data%2C%20Part%201/EXERCISES/EXERCISES.ipynb#X20sZmlsZQ%3D%3D?line=2'>3</a>\u001b[0m \u001b[39m'\u001b[39;49m\u001b[39mabc.txt\u001b[39;49m\u001b[39m'\u001b[39;49m\u001b[39m.\u001b[39;49mclose()\n",
      "\u001b[1;31mAttributeError\u001b[0m: 'str' object has no attribute 'close'"
     ]
    }
   ],
   "source": [
    "infile = open('abc.txt', 'r')\n",
    "line = infile.readline()\n",
    "'abc.txt'.close()"
   ]
  },
  {
   "cell_type": "code",
   "execution_count": 31,
   "metadata": {},
   "outputs": [
    {
     "ename": "FileNotFoundError",
     "evalue": "[Errno 2] No such file or directory: 'outfile2.txt'",
     "output_type": "error",
     "traceback": [
      "\u001b[1;31m---------------------------------------------------------------------------\u001b[0m",
      "\u001b[1;31mFileNotFoundError\u001b[0m                         Traceback (most recent call last)",
      "\u001b[1;32mc:\\Users\\ahmet\\OneDrive\\Masaüstü\\CENG\\1. Sınıf\\1. Dönem (Güz)\\COM1001 (Computer Programming I)\\Python Programming Exercises\\Chapter 5 - Processing Data\\5.1-Processing Data, Part 1\\EXERCISES\\EXERCISES.ipynb Cell 14\u001b[0m line \u001b[0;36m1\n\u001b[1;32m----> <a href='vscode-notebook-cell:/c%3A/Users/ahmet/OneDrive/Masa%C3%BCst%C3%BC/CENG/1.%20S%C4%B1n%C4%B1f/1.%20D%C3%B6nem%20%28G%C3%BCz%29/COM1001%20%28Computer%20Programming%20I%29/Python%20Programming%20Exercises/Chapter%205%20-%20Processing%20Data/5.1-Processing%20Data%2C%20Part%201/EXERCISES/EXERCISES.ipynb#X21sZmlsZQ%3D%3D?line=0'>1</a>\u001b[0m outfile \u001b[39m=\u001b[39m \u001b[39mopen\u001b[39;49m(\u001b[39m'\u001b[39;49m\u001b[39moutfile2.txt\u001b[39;49m\u001b[39m'\u001b[39;49m, \u001b[39m'\u001b[39;49m\u001b[39mr\u001b[39;49m\u001b[39m'\u001b[39;49m)\n\u001b[0;32m      <a href='vscode-notebook-cell:/c%3A/Users/ahmet/OneDrive/Masa%C3%BCst%C3%BC/CENG/1.%20S%C4%B1n%C4%B1f/1.%20D%C3%B6nem%20%28G%C3%BCz%29/COM1001%20%28Computer%20Programming%20I%29/Python%20Programming%20Exercises/Chapter%205%20-%20Processing%20Data/5.1-Processing%20Data%2C%20Part%201/EXERCISES/EXERCISES.ipynb#X21sZmlsZQ%3D%3D?line=1'>2</a>\u001b[0m outfile\u001b[39m.\u001b[39mwrite(\u001b[39m'\u001b[39m\u001b[39mBeyza\u001b[39m\u001b[39m\\n\u001b[39;00m\u001b[39m'\u001b[39m)\n\u001b[0;32m      <a href='vscode-notebook-cell:/c%3A/Users/ahmet/OneDrive/Masa%C3%BCst%C3%BC/CENG/1.%20S%C4%B1n%C4%B1f/1.%20D%C3%B6nem%20%28G%C3%BCz%29/COM1001%20%28Computer%20Programming%20I%29/Python%20Programming%20Exercises/Chapter%205%20-%20Processing%20Data/5.1-Processing%20Data%2C%20Part%201/EXERCISES/EXERCISES.ipynb#X21sZmlsZQ%3D%3D?line=2'>3</a>\u001b[0m outfile\u001b[39m.\u001b[39mclose()\n",
      "File \u001b[1;32m~\\AppData\\Roaming\\Python\\Python312\\site-packages\\IPython\\core\\interactiveshell.py:286\u001b[0m, in \u001b[0;36m_modified_open\u001b[1;34m(file, *args, **kwargs)\u001b[0m\n\u001b[0;32m    279\u001b[0m \u001b[39mif\u001b[39;00m file \u001b[39min\u001b[39;00m {\u001b[39m0\u001b[39m, \u001b[39m1\u001b[39m, \u001b[39m2\u001b[39m}:\n\u001b[0;32m    280\u001b[0m     \u001b[39mraise\u001b[39;00m \u001b[39mValueError\u001b[39;00m(\n\u001b[0;32m    281\u001b[0m         \u001b[39mf\u001b[39m\u001b[39m\"\u001b[39m\u001b[39mIPython won\u001b[39m\u001b[39m'\u001b[39m\u001b[39mt let you open fd=\u001b[39m\u001b[39m{\u001b[39;00mfile\u001b[39m}\u001b[39;00m\u001b[39m by default \u001b[39m\u001b[39m\"\u001b[39m\n\u001b[0;32m    282\u001b[0m         \u001b[39m\"\u001b[39m\u001b[39mas it is likely to crash IPython. If you know what you are doing, \u001b[39m\u001b[39m\"\u001b[39m\n\u001b[0;32m    283\u001b[0m         \u001b[39m\"\u001b[39m\u001b[39myou can use builtins\u001b[39m\u001b[39m'\u001b[39m\u001b[39m open.\u001b[39m\u001b[39m\"\u001b[39m\n\u001b[0;32m    284\u001b[0m     )\n\u001b[1;32m--> 286\u001b[0m \u001b[39mreturn\u001b[39;00m io_open(file, \u001b[39m*\u001b[39;49margs, \u001b[39m*\u001b[39;49m\u001b[39m*\u001b[39;49mkwargs)\n",
      "\u001b[1;31mFileNotFoundError\u001b[0m: [Errno 2] No such file or directory: 'outfile2.txt'"
     ]
    }
   ],
   "source": [
    "outfile = open('outfile2.txt', 'r')\n",
    "outfile.write('Beyza\\n')\n",
    "outfile.close()\n",
    "# 'r' metodu ile olmayan bir txt dosyasını okumaya çalıştık."
   ]
  },
  {
   "cell_type": "code",
   "execution_count": 34,
   "metadata": {},
   "outputs": [
    {
     "ename": "TypeError",
     "evalue": "write() argument must be str, not int",
     "output_type": "error",
     "traceback": [
      "\u001b[1;31m---------------------------------------------------------------------------\u001b[0m",
      "\u001b[1;31mTypeError\u001b[0m                                 Traceback (most recent call last)",
      "\u001b[1;32mc:\\Users\\ahmet\\OneDrive\\Masaüstü\\CENG\\1. Sınıf\\1. Dönem (Güz)\\COM1001 (Computer Programming I)\\Python Programming Exercises\\Chapter 5 - Processing Data\\5.1-Processing Data, Part 1\\EXERCISES\\EXERCISES.ipynb Cell 15\u001b[0m line \u001b[0;36m3\n\u001b[0;32m      <a href='vscode-notebook-cell:/c%3A/Users/ahmet/OneDrive/Masa%C3%BCst%C3%BC/CENG/1.%20S%C4%B1n%C4%B1f/1.%20D%C3%B6nem%20%28G%C3%BCz%29/COM1001%20%28Computer%20Programming%20I%29/Python%20Programming%20Exercises/Chapter%205%20-%20Processing%20Data/5.1-Processing%20Data%2C%20Part%201/EXERCISES/EXERCISES.ipynb#X22sZmlsZQ%3D%3D?line=0'>1</a>\u001b[0m outfile \u001b[39m=\u001b[39m \u001b[39mopen\u001b[39m(\u001b[39m'\u001b[39m\u001b[39mdata.txt\u001b[39m\u001b[39m'\u001b[39m, \u001b[39m'\u001b[39m\u001b[39mw\u001b[39m\u001b[39m'\u001b[39m)\n\u001b[0;32m      <a href='vscode-notebook-cell:/c%3A/Users/ahmet/OneDrive/Masa%C3%BCst%C3%BC/CENG/1.%20S%C4%B1n%C4%B1f/1.%20D%C3%B6nem%20%28G%C3%BCz%29/COM1001%20%28Computer%20Programming%20I%29/Python%20Programming%20Exercises/Chapter%205%20-%20Processing%20Data/5.1-Processing%20Data%2C%20Part%201/EXERCISES/EXERCISES.ipynb#X22sZmlsZQ%3D%3D?line=1'>2</a>\u001b[0m \u001b[39mfor\u001b[39;00m i \u001b[39min\u001b[39;00m \u001b[39mrange\u001b[39m(\u001b[39m5\u001b[39m):\n\u001b[1;32m----> <a href='vscode-notebook-cell:/c%3A/Users/ahmet/OneDrive/Masa%C3%BCst%C3%BC/CENG/1.%20S%C4%B1n%C4%B1f/1.%20D%C3%B6nem%20%28G%C3%BCz%29/COM1001%20%28Computer%20Programming%20I%29/Python%20Programming%20Exercises/Chapter%205%20-%20Processing%20Data/5.1-Processing%20Data%2C%20Part%201/EXERCISES/EXERCISES.ipynb#X22sZmlsZQ%3D%3D?line=2'>3</a>\u001b[0m   outfile\u001b[39m.\u001b[39;49mwrite(i)\n\u001b[0;32m      <a href='vscode-notebook-cell:/c%3A/Users/ahmet/OneDrive/Masa%C3%BCst%C3%BC/CENG/1.%20S%C4%B1n%C4%B1f/1.%20D%C3%B6nem%20%28G%C3%BCz%29/COM1001%20%28Computer%20Programming%20I%29/Python%20Programming%20Exercises/Chapter%205%20-%20Processing%20Data/5.1-Processing%20Data%2C%20Part%201/EXERCISES/EXERCISES.ipynb#X22sZmlsZQ%3D%3D?line=3'>4</a>\u001b[0m outfile\u001b[39m.\u001b[39mclose()\n",
      "\u001b[1;31mTypeError\u001b[0m: write() argument must be str, not int"
     ]
    }
   ],
   "source": [
    "outfile = open('data.txt', 'w')\n",
    "for i in range(5):\n",
    "  outfile.write(i)\n",
    "outfile.close()"
   ]
  },
  {
   "cell_type": "code",
   "execution_count": 35,
   "metadata": {},
   "outputs": [],
   "source": [
    "outfile = open('data2.txt', 'w')\n",
    "for i in range(5):\n",
    "  outfile.write(str(i))\n",
    "outfile.close()\n",
    "# 01234 written in data2.txt now."
   ]
  },
  {
   "cell_type": "code",
   "execution_count": 39,
   "metadata": {},
   "outputs": [],
   "source": [
    "outfile = open('data3.txt', 'w')\n",
    "for i in range(5):\n",
    "  outfile.write(str(i) + '\\n')\n",
    "outfile.close()\n",
    "# alt alta 0 1 2 3 4 yazıldı data3.txt dosyasına."
   ]
  },
  {
   "cell_type": "code",
   "execution_count": 40,
   "metadata": {},
   "outputs": [
    {
     "ename": "TypeError",
     "evalue": "object of type '_io.TextIOWrapper' has no len()",
     "output_type": "error",
     "traceback": [
      "\u001b[1;31m---------------------------------------------------------------------------\u001b[0m",
      "\u001b[1;31mTypeError\u001b[0m                                 Traceback (most recent call last)",
      "\u001b[1;32mc:\\Users\\ahmet\\OneDrive\\Masaüstü\\CENG\\1. Sınıf\\1. Dönem (Güz)\\COM1001 (Computer Programming I)\\Python Programming Exercises\\Chapter 5 - Processing Data\\5.1-Processing Data, Part 1\\EXERCISES\\EXERCISES.ipynb Cell 18\u001b[0m line \u001b[0;36m4\n\u001b[0;32m      <a href='vscode-notebook-cell:/c%3A/Users/ahmet/OneDrive/Masa%C3%BCst%C3%BC/CENG/1.%20S%C4%B1n%C4%B1f/1.%20D%C3%B6nem%20%28G%C3%BCz%29/COM1001%20%28Computer%20Programming%20I%29/Python%20Programming%20Exercises/Chapter%205%20-%20Processing%20Data/5.1-Processing%20Data%2C%20Part%201/EXERCISES/EXERCISES.ipynb#X25sZmlsZQ%3D%3D?line=1'>2</a>\u001b[0m outfile \u001b[39m=\u001b[39m \u001b[39mopen\u001b[39m(\u001b[39m'\u001b[39m\u001b[39mfruits.txt\u001b[39m\u001b[39m'\u001b[39m, \u001b[39m'\u001b[39m\u001b[39mw\u001b[39m\u001b[39m'\u001b[39m)\n\u001b[0;32m      <a href='vscode-notebook-cell:/c%3A/Users/ahmet/OneDrive/Masa%C3%BCst%C3%BC/CENG/1.%20S%C4%B1n%C4%B1f/1.%20D%C3%B6nem%20%28G%C3%BCz%29/COM1001%20%28Computer%20Programming%20I%29/Python%20Programming%20Exercises/Chapter%205%20-%20Processing%20Data/5.1-Processing%20Data%2C%20Part%201/EXERCISES/EXERCISES.ipynb#X25sZmlsZQ%3D%3D?line=2'>3</a>\u001b[0m outfile\u001b[39m.\u001b[39mwritelines(list1)\n\u001b[1;32m----> <a href='vscode-notebook-cell:/c%3A/Users/ahmet/OneDrive/Masa%C3%BCst%C3%BC/CENG/1.%20S%C4%B1n%C4%B1f/1.%20D%C3%B6nem%20%28G%C3%BCz%29/COM1001%20%28Computer%20Programming%20I%29/Python%20Programming%20Exercises/Chapter%205%20-%20Processing%20Data/5.1-Processing%20Data%2C%20Part%201/EXERCISES/EXERCISES.ipynb#X25sZmlsZQ%3D%3D?line=3'>4</a>\u001b[0m \u001b[39mprint\u001b[39m(\u001b[39mlen\u001b[39;49m(outfile))\n\u001b[0;32m      <a href='vscode-notebook-cell:/c%3A/Users/ahmet/OneDrive/Masa%C3%BCst%C3%BC/CENG/1.%20S%C4%B1n%C4%B1f/1.%20D%C3%B6nem%20%28G%C3%BCz%29/COM1001%20%28Computer%20Programming%20I%29/Python%20Programming%20Exercises/Chapter%205%20-%20Processing%20Data/5.1-Processing%20Data%2C%20Part%201/EXERCISES/EXERCISES.ipynb#X25sZmlsZQ%3D%3D?line=4'>5</a>\u001b[0m outfile\u001b[39m.\u001b[39mclose()\n",
      "\u001b[1;31mTypeError\u001b[0m: object of type '_io.TextIOWrapper' has no len()"
     ]
    }
   ],
   "source": [
    "list1 = ['apple\\n', 'orange\\n', 'banana\\n']\n",
    "outfile = open('fruits.txt', 'w')\n",
    "outfile.writelines(list1)\n",
    "print(len(outfile))\n",
    "outfile.close()"
   ]
  },
  {
   "cell_type": "code",
   "execution_count": 41,
   "metadata": {},
   "outputs": [],
   "source": [
    "list1 = ['apple\\n', 'orange\\n', 'banana\\n']\n",
    "outfile = open('fruits.txt', 'w')\n",
    "outfile.writelines(list1)\n",
    "outfile.close()"
   ]
  },
  {
   "cell_type": "code",
   "execution_count": 46,
   "metadata": {},
   "outputs": [
    {
     "name": "stdout",
     "output_type": "stream",
     "text": [
      "hello\n",
      "world\n"
     ]
    }
   ],
   "source": [
    "list1 = ['hello\\n', 'world']\n",
    "\n",
    "outfile = open('Greet.txt', 'w')\n",
    "outfile.writelines(list1)\n",
    "\n",
    "infile = open('Greet.txt', 'r')\n",
    "text = infile.read()\n",
    "\n",
    "print(text)"
   ]
  },
  {
   "cell_type": "code",
   "execution_count": 48,
   "metadata": {},
   "outputs": [
    {
     "ename": "TypeError",
     "evalue": "write() argument must be str, not int",
     "output_type": "error",
     "traceback": [
      "\u001b[1;31m---------------------------------------------------------------------------\u001b[0m",
      "\u001b[1;31mTypeError\u001b[0m                                 Traceback (most recent call last)",
      "\u001b[1;32mc:\\Users\\ahmet\\OneDrive\\Masaüstü\\CENG\\1. Sınıf\\1. Dönem (Güz)\\COM1001 (Computer Programming I)\\Python Programming Exercises\\Chapter 5 - Processing Data\\5.1-Processing Data, Part 1\\EXERCISES\\EXERCISES.ipynb Cell 21\u001b[0m line \u001b[0;36m7\n\u001b[0;32m      <a href='vscode-notebook-cell:/c%3A/Users/ahmet/OneDrive/Masa%C3%BCst%C3%BC/CENG/1.%20S%C4%B1n%C4%B1f/1.%20D%C3%B6nem%20%28G%C3%BCz%29/COM1001%20%28Computer%20Programming%20I%29/Python%20Programming%20Exercises/Chapter%205%20-%20Processing%20Data/5.1-Processing%20Data%2C%20Part%201/EXERCISES/EXERCISES.ipynb#X31sZmlsZQ%3D%3D?line=4'>5</a>\u001b[0m \u001b[39mfor\u001b[39;00m word \u001b[39min\u001b[39;00m list1:\n\u001b[0;32m      <a href='vscode-notebook-cell:/c%3A/Users/ahmet/OneDrive/Masa%C3%BCst%C3%BC/CENG/1.%20S%C4%B1n%C4%B1f/1.%20D%C3%B6nem%20%28G%C3%BCz%29/COM1001%20%28Computer%20Programming%20I%29/Python%20Programming%20Exercises/Chapter%205%20-%20Processing%20Data/5.1-Processing%20Data%2C%20Part%201/EXERCISES/EXERCISES.ipynb#X31sZmlsZQ%3D%3D?line=5'>6</a>\u001b[0m   outfile\u001b[39m.\u001b[39mwrite(word \u001b[39m+\u001b[39m \u001b[39m'\u001b[39m\u001b[39m\\n\u001b[39;00m\u001b[39m'\u001b[39m)\n\u001b[1;32m----> <a href='vscode-notebook-cell:/c%3A/Users/ahmet/OneDrive/Masa%C3%BCst%C3%BC/CENG/1.%20S%C4%B1n%C4%B1f/1.%20D%C3%B6nem%20%28G%C3%BCz%29/COM1001%20%28Computer%20Programming%20I%29/Python%20Programming%20Exercises/Chapter%205%20-%20Processing%20Data/5.1-Processing%20Data%2C%20Part%201/EXERCISES/EXERCISES.ipynb#X31sZmlsZQ%3D%3D?line=6'>7</a>\u001b[0m   outfile\u001b[39m.\u001b[39;49mwrite(\u001b[39mlen\u001b[39;49m(word))\n\u001b[0;32m      <a href='vscode-notebook-cell:/c%3A/Users/ahmet/OneDrive/Masa%C3%BCst%C3%BC/CENG/1.%20S%C4%B1n%C4%B1f/1.%20D%C3%B6nem%20%28G%C3%BCz%29/COM1001%20%28Computer%20Programming%20I%29/Python%20Programming%20Exercises/Chapter%205%20-%20Processing%20Data/5.1-Processing%20Data%2C%20Part%201/EXERCISES/EXERCISES.ipynb#X31sZmlsZQ%3D%3D?line=7'>8</a>\u001b[0m   \u001b[39m# buradaki hatayı da tam anlamadım.\u001b[39;00m\n\u001b[0;32m     <a href='vscode-notebook-cell:/c%3A/Users/ahmet/OneDrive/Masa%C3%BCst%C3%BC/CENG/1.%20S%C4%B1n%C4%B1f/1.%20D%C3%B6nem%20%28G%C3%BCz%29/COM1001%20%28Computer%20Programming%20I%29/Python%20Programming%20Exercises/Chapter%205%20-%20Processing%20Data/5.1-Processing%20Data%2C%20Part%201/EXERCISES/EXERCISES.ipynb#X31sZmlsZQ%3D%3D?line=9'>10</a>\u001b[0m outfile\u001b[39m.\u001b[39mclose()\n",
      "\u001b[1;31mTypeError\u001b[0m: write() argument must be str, not int"
     ]
    }
   ],
   "source": [
    "list1 = ['Fast', 'and', 'Furious']\n",
    "\n",
    "outfile = open('movie.txt', 'w')\n",
    "\n",
    "for word in list1:\n",
    "  outfile.write(word + '\\n')\n",
    "  outfile.write(len(word))\n",
    "  # buradaki hatayı da tam anlamadım.\n",
    "\n",
    "outfile.close()\n"
   ]
  },
  {
   "cell_type": "code",
   "execution_count": 51,
   "metadata": {},
   "outputs": [
    {
     "ename": "ValueError",
     "evalue": "I/O operation on closed file.",
     "output_type": "error",
     "traceback": [
      "\u001b[1;31m---------------------------------------------------------------------------\u001b[0m",
      "\u001b[1;31mValueError\u001b[0m                                Traceback (most recent call last)",
      "\u001b[1;32mc:\\Users\\ahmet\\OneDrive\\Masaüstü\\CENG\\1. Sınıf\\1. Dönem (Güz)\\COM1001 (Computer Programming I)\\Python Programming Exercises\\Chapter 5 - Processing Data\\5.1-Processing Data, Part 1\\EXERCISES\\EXERCISES.ipynb Cell 22\u001b[0m line \u001b[0;36m3\n\u001b[0;32m      <a href='vscode-notebook-cell:/c%3A/Users/ahmet/OneDrive/Masa%C3%BCst%C3%BC/CENG/1.%20S%C4%B1n%C4%B1f/1.%20D%C3%B6nem%20%28G%C3%BCz%29/COM1001%20%28Computer%20Programming%20I%29/Python%20Programming%20Exercises/Chapter%205%20-%20Processing%20Data/5.1-Processing%20Data%2C%20Part%201/EXERCISES/EXERCISES.ipynb#X32sZmlsZQ%3D%3D?line=0'>1</a>\u001b[0m infile \u001b[39m=\u001b[39m \u001b[39mopen\u001b[39m(\u001b[39m'\u001b[39m\u001b[39mabc.txt\u001b[39m\u001b[39m'\u001b[39m, \u001b[39m'\u001b[39m\u001b[39mr\u001b[39m\u001b[39m'\u001b[39m)\n\u001b[0;32m      <a href='vscode-notebook-cell:/c%3A/Users/ahmet/OneDrive/Masa%C3%BCst%C3%BC/CENG/1.%20S%C4%B1n%C4%B1f/1.%20D%C3%B6nem%20%28G%C3%BCz%29/COM1001%20%28Computer%20Programming%20I%29/Python%20Programming%20Exercises/Chapter%205%20-%20Processing%20Data/5.1-Processing%20Data%2C%20Part%201/EXERCISES/EXERCISES.ipynb#X32sZmlsZQ%3D%3D?line=1'>2</a>\u001b[0m infile\u001b[39m.\u001b[39mclose()\n\u001b[1;32m----> <a href='vscode-notebook-cell:/c%3A/Users/ahmet/OneDrive/Masa%C3%BCst%C3%BC/CENG/1.%20S%C4%B1n%C4%B1f/1.%20D%C3%B6nem%20%28G%C3%BCz%29/COM1001%20%28Computer%20Programming%20I%29/Python%20Programming%20Exercises/Chapter%205%20-%20Processing%20Data/5.1-Processing%20Data%2C%20Part%201/EXERCISES/EXERCISES.ipynb#X32sZmlsZQ%3D%3D?line=2'>3</a>\u001b[0m line \u001b[39m=\u001b[39m infile\u001b[39m.\u001b[39;49mreadline() \u001b[39m# bu satırı infile.close() demeden önce yazmamız gerektiğine dair bir hata aldık.\u001b[39;00m\n",
      "\u001b[1;31mValueError\u001b[0m: I/O operation on closed file."
     ]
    }
   ],
   "source": [
    "infile = open('abc.txt', 'r')\n",
    "infile.close()\n",
    "line = infile.readline() # bu satırı infile.close() demeden önce yazmamız gerektiğine dair bir hata aldık."
   ]
  },
  {
   "cell_type": "code",
   "execution_count": 54,
   "metadata": {},
   "outputs": [
    {
     "ename": "TypeError",
     "evalue": "unhashable type: 'list'",
     "output_type": "error",
     "traceback": [
      "\u001b[1;31m---------------------------------------------------------------------------\u001b[0m",
      "\u001b[1;31mTypeError\u001b[0m                                 Traceback (most recent call last)",
      "\u001b[1;32mc:\\Users\\ahmet\\OneDrive\\Masaüstü\\CENG\\1. Sınıf\\1. Dönem (Güz)\\COM1001 (Computer Programming I)\\Python Programming Exercises\\Chapter 5 - Processing Data\\5.1-Processing Data, Part 1\\EXERCISES\\EXERCISES.ipynb Cell 23\u001b[0m line \u001b[0;36m1\n\u001b[1;32m----> <a href='vscode-notebook-cell:/c%3A/Users/ahmet/OneDrive/Masa%C3%BCst%C3%BC/CENG/1.%20S%C4%B1n%C4%B1f/1.%20D%C3%B6nem%20%28G%C3%BCz%29/COM1001%20%28Computer%20Programming%20I%29/Python%20Programming%20Exercises/Chapter%205%20-%20Processing%20Data/5.1-Processing%20Data%2C%20Part%201/EXERCISES/EXERCISES.ipynb#X33sZmlsZQ%3D%3D?line=0'>1</a>\u001b[0m set1 \u001b[39m=\u001b[39m {\u001b[39m'\u001b[39m\u001b[39mxyz\u001b[39m\u001b[39m'\u001b[39m, \u001b[39m5\u001b[39m, [\u001b[39m3\u001b[39m, \u001b[39m4\u001b[39m]}\n\u001b[0;32m      <a href='vscode-notebook-cell:/c%3A/Users/ahmet/OneDrive/Masa%C3%BCst%C3%BC/CENG/1.%20S%C4%B1n%C4%B1f/1.%20D%C3%B6nem%20%28G%C3%BCz%29/COM1001%20%28Computer%20Programming%20I%29/Python%20Programming%20Exercises/Chapter%205%20-%20Processing%20Data/5.1-Processing%20Data%2C%20Part%201/EXERCISES/EXERCISES.ipynb#X33sZmlsZQ%3D%3D?line=1'>2</a>\u001b[0m list1 \u001b[39m=\u001b[39m \u001b[39mlist\u001b[39m(set1)\n",
      "\u001b[1;31mTypeError\u001b[0m: unhashable type: 'list'"
     ]
    }
   ],
   "source": [
    "set1 = {'xyz', 5, [3, 4]}\n",
    "list1 = list(set1)"
   ]
  },
  {
   "cell_type": "code",
   "execution_count": 57,
   "metadata": {},
   "outputs": [
    {
     "name": "stdout",
     "output_type": "stream",
     "text": [
      "File already exists\n"
     ]
    }
   ],
   "source": [
    "# Some code regarding 'os' module:\n",
    "\n",
    "import os\n",
    "\n",
    "if os.path.isfile('ABCDE.txt'):\n",
    "  print('File already exists')\n",
    "else:\n",
    "  infile = open('ABCDE.txt', 'w')\n",
    "  infile.write('Hello\\tworld!\\n')\n",
    "  infile.close()\n",
    "\n",
    "# kod ilk çalıştığında else bloğuna girip ABCDE.txt dosyasını oluşturdu, ikinci kez çalıştığında ise artık ABCDE.txt var olduğundan dolayı if bloğuna girip File already exists print edildi."
   ]
  },
  {
   "cell_type": "code",
   "execution_count": 63,
   "metadata": {},
   "outputs": [
    {
     "name": "stdout",
     "output_type": "stream",
     "text": [
      "[1, 5, 2, 3, 4, 7]\n",
      "[1, 2, 3, 4, 5, 7]\n"
     ]
    }
   ],
   "source": [
    "# TRYING TO SIMPLIFY THE FOLLOWING PROGRAMS BY USING SETS:\n",
    "\n",
    "myList = [1,1,5,5,5,2,3,2,4,7]\n",
    "\n",
    "# without using sets:\n",
    "def removeDuplicates(list1):\n",
    "  list2 = []\n",
    "  for item in list1:\n",
    "    if item not in list2:\n",
    "      list2.append(item)\n",
    "  return list2\n",
    "\n",
    "\n",
    "# with using sets:\n",
    "def removeDuplicatesWithSets(list1):\n",
    "  return list(set(list1))\n",
    "\n",
    "\n",
    "print(removeDuplicates(myList))\n",
    "print(removeDuplicatesWithSets(myList))"
   ]
  },
  {
   "cell_type": "code",
   "execution_count": 70,
   "metadata": {},
   "outputs": [
    {
     "name": "stdout",
     "output_type": "stream",
     "text": [
      "Ortak Elemanlar:  [3, 4, 5, 6, 7]\n",
      "Ortak Elemanlar:  [3, 4, 5, 6, 7]\n"
     ]
    }
   ],
   "source": [
    "firstList = [7, 6, 1, 2, 3, 4, 5]\n",
    "secondList = [6, 3, 4, 5, 6, 7]\n",
    "\n",
    "# without using sets:\n",
    "def findItemsInBoth(list1, list2):\n",
    "  list3 = []\n",
    "  for item in list1:\n",
    "    if (item in list2) and (item not in list3):\n",
    "      list3.append(item)\n",
    "  list3.sort()\n",
    "  return list3\n",
    "\n",
    "\n",
    "# with using sets:\n",
    "def findItemsBothWithSets(list1, list2):\n",
    "  set1 = set(list1)\n",
    "  set2 = set(list2)\n",
    "  both = list(set1.intersection(set2))\n",
    "  both.sort()\n",
    "  return both\n",
    "\n",
    "\n",
    "print('Ortak Elemanlar: ', findItemsInBoth(firstList, secondList))\n",
    "print('Ortak Elemanlar: ', findItemsBothWithSets(firstList, secondList))"
   ]
  },
  {
   "cell_type": "code",
   "execution_count": 76,
   "metadata": {},
   "outputs": [
    {
     "name": "stdout",
     "output_type": "stream",
     "text": [
      "Birleşim Kümesi:  [1, 2, 3, 4, 5, 6]\n",
      "Birleşim Kümesi:  [1, 2, 3, 4, 5, 6]\n"
     ]
    }
   ],
   "source": [
    "lst1 = [3, 4, 6, 5]\n",
    "lst2 = [6, 1, 4, 2]\n",
    "\n",
    "# without using sets:\n",
    "def findItemsInEither(list1, list2):\n",
    "  list3 = []\n",
    "  for item in list1:\n",
    "    if (item not in list3):\n",
    "      list3.append(item)\n",
    "  for item in list2:\n",
    "    if (item not in list3):\n",
    "      list3.append(item)\n",
    "  list3.sort()\n",
    "  return list3\n",
    "\n",
    "\n",
    "# with using sets:\n",
    "def findItemsInEitherWithSets(list1, list2):\n",
    "  set1 = set(list1)\n",
    "  set2 = set(list2)\n",
    "  unionList = list(set1.union(set2))\n",
    "  unionList.sort()\n",
    "  return unionList\n",
    "\n",
    "\n",
    "print('Birleşim Kümesi: ', findItemsInEither(lst1, lst2))\n",
    "print('Birleşim Kümesi: ', findItemsInEitherWithSets(lst1, lst2))"
   ]
  },
  {
   "cell_type": "code",
   "execution_count": 79,
   "metadata": {},
   "outputs": [
    {
     "name": "stdout",
     "output_type": "stream",
     "text": [
      "{'Shell', 'Key', 'Mills', 'Knuth'}\n",
      "{'Shell', 'Key', 'Mills', 'Knuth'}\n"
     ]
    }
   ],
   "source": [
    "# Use SET COMPREHENSION to simplify the following lines of code:\n",
    "\n",
    "fullNames = ['Donald Shell', 'Harlan Mills', 'Donals Knuth', 'Alan Key']\n",
    "surNames = set()\n",
    "for name in fullNames:\n",
    "  surNames.add(name.split()[-1])\n",
    "print(surNames)\n",
    "\n",
    "# by using set comprehension:\n",
    "surNames2 = {name.split()[-1] for name in fullNames}\n",
    "print(surNames2)"
   ]
  },
  {
   "cell_type": "code",
   "execution_count": 3,
   "metadata": {},
   "outputs": [],
   "source": [
    "listNumbers = [1, 3, 5, 7, 9]\n",
    "\n",
    "# Write a list of numbers to a file. Convers to strings while writing.\n",
    "\n",
    "outfile = open('SomeNumbers.txt', 'w')\n",
    "for num in listNumbers:\n",
    "  outfile.write(str(num) + '\\n')\n",
    "outfile.close()"
   ]
  }
 ],
 "metadata": {
  "kernelspec": {
   "display_name": "Python 3",
   "language": "python",
   "name": "python3"
  },
  "language_info": {
   "codemirror_mode": {
    "name": "ipython",
    "version": 3
   },
   "file_extension": ".py",
   "mimetype": "text/x-python",
   "name": "python",
   "nbconvert_exporter": "python",
   "pygments_lexer": "ipython3",
   "version": "3.12.0"
  }
 },
 "nbformat": 4,
 "nbformat_minor": 2
}
