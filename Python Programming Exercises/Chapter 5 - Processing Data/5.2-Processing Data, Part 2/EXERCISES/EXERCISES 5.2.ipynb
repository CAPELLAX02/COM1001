{
 "cells": [
  {
   "cell_type": "code",
   "execution_count": 10,
   "metadata": {},
   "outputs": [],
   "source": [
    "infile = open('countries.txt', 'r')\n",
    "outfile = open('newFile.txt', 'w')\n",
    "for line in infile:\n",
    "  line = line.rstrip()\n",
    "  data = line.split(',')\n",
    "  data[3] = eval(data[3])\n",
    "  outfile.write('The area of {0} is {1:,.0f} square miles.'.format(data[0], data[3]) + '\\n')\n",
    "infile.close()\n",
    "outfile.close()"
   ]
  }
 ],
 "metadata": {
  "kernelspec": {
   "display_name": "Python 3",
   "language": "python",
   "name": "python3"
  },
  "language_info": {
   "codemirror_mode": {
    "name": "ipython",
    "version": 3
   },
   "file_extension": ".py",
   "mimetype": "text/x-python",
   "name": "python",
   "nbconvert_exporter": "python",
   "pygments_lexer": "ipython3",
   "version": "3.12.0"
  }
 },
 "nbformat": 4,
 "nbformat_minor": 2
}
